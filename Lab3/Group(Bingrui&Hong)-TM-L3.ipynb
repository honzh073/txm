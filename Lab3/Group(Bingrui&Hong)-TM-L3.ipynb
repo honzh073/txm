{
 "cells": [
  {
   "cell_type": "markdown",
   "metadata": {},
   "source": [
    "# L3: Text clustering and topic modelling"
   ]
  },
  {
   "cell_type": "markdown",
   "metadata": {},
   "source": [
    "Text clustering groups documents in such a way that documents within a group are more &lsquo;similar&rsquo; to other documents in the cluster than to documents not in the cluster. The exact definition of what &lsquo;similar&rsquo; means in this context varies across applications and clustering algorithms.\n",
    "\n",
    "In this lab you will experiment with both hard and soft clustering techniques. More specifically, in the first part you will be using the $k$-means algorithm, and in the second part you will be using a topic model based on the Latent Dirichlet Allocation (LDA)."
   ]
  },
  {
   "cell_type": "markdown",
   "metadata": {},
   "source": [
    "**A quick reminder about our [Rules for hand-in assignments](https://www.ida.liu.se/~TDDE16/exam.en.shtml#handins) and the [Policy on cheating and plagiarism](https://www.ida.liu.se/~TDDE16/exam.en.shtml#cheating)**"
   ]
  },
  {
   "cell_type": "markdown",
   "metadata": {},
   "source": [
    "## Hard clustering data set"
   ]
  },
  {
   "cell_type": "markdown",
   "metadata": {},
   "source": [
    "The raw data for the hard clustering part of this lab is a collection of product reviews. We have preprocessed the data by tokenization and lowercasing."
   ]
  },
  {
   "cell_type": "code",
   "execution_count": 47,
   "metadata": {},
   "outputs": [],
   "source": [
    "import pandas as pd\n",
    "import bz2\n",
    "\n",
    "with bz2.open('reviews.json.bz2') as source:\n",
    "    df = pd.read_json(source)"
   ]
  },
  {
   "cell_type": "markdown",
   "metadata": {},
   "source": [
    "When you inspect the data frame, you can see that there are three labelled columns: `category` (the product category), `sentiment` (whether the product review was classified as &lsquo;positive&rsquo; or &lsquo;negative&rsquo; towards the product), and `text` (the space-separated text of the review)."
   ]
  },
  {
   "cell_type": "code",
   "execution_count": 48,
   "metadata": {},
   "outputs": [
    {
     "data": {
      "text/html": [
       "<div>\n",
       "<style scoped>\n",
       "    .dataframe tbody tr th:only-of-type {\n",
       "        vertical-align: middle;\n",
       "    }\n",
       "\n",
       "    .dataframe tbody tr th {\n",
       "        vertical-align: top;\n",
       "    }\n",
       "\n",
       "    .dataframe thead th {\n",
       "        text-align: right;\n",
       "    }\n",
       "</style>\n",
       "<table border=\"1\" class=\"dataframe\">\n",
       "  <thead>\n",
       "    <tr style=\"text-align: right;\">\n",
       "      <th></th>\n",
       "      <th>category</th>\n",
       "      <th>sentiment</th>\n",
       "      <th>text</th>\n",
       "    </tr>\n",
       "  </thead>\n",
       "  <tbody>\n",
       "    <tr>\n",
       "      <th>0</th>\n",
       "      <td>music</td>\n",
       "      <td>neg</td>\n",
       "      <td>i bought this album because i loved the title ...</td>\n",
       "    </tr>\n",
       "    <tr>\n",
       "      <th>1</th>\n",
       "      <td>music</td>\n",
       "      <td>neg</td>\n",
       "      <td>i was misled and thought i was buying the enti...</td>\n",
       "    </tr>\n",
       "    <tr>\n",
       "      <th>2</th>\n",
       "      <td>books</td>\n",
       "      <td>neg</td>\n",
       "      <td>i have introduced many of my ell , high school...</td>\n",
       "    </tr>\n",
       "    <tr>\n",
       "      <th>3</th>\n",
       "      <td>books</td>\n",
       "      <td>pos</td>\n",
       "      <td>anything you purchase in the left behind serie...</td>\n",
       "    </tr>\n",
       "    <tr>\n",
       "      <th>4</th>\n",
       "      <td>dvd</td>\n",
       "      <td>pos</td>\n",
       "      <td>i loved these movies , and i cant wiat for the...</td>\n",
       "    </tr>\n",
       "  </tbody>\n",
       "</table>\n",
       "</div>"
      ],
      "text/plain": [
       "  category sentiment                                               text\n",
       "0    music       neg  i bought this album because i loved the title ...\n",
       "1    music       neg  i was misled and thought i was buying the enti...\n",
       "2    books       neg  i have introduced many of my ell , high school...\n",
       "3    books       pos  anything you purchase in the left behind serie...\n",
       "4      dvd       pos  i loved these movies , and i cant wiat for the..."
      ]
     },
     "execution_count": 48,
     "metadata": {},
     "output_type": "execute_result"
    }
   ],
   "source": [
    "df.head()"
   ]
  },
  {
   "cell_type": "markdown",
   "metadata": {},
   "source": [
    "## Problem 1: K-means clustering"
   ]
  },
  {
   "cell_type": "markdown",
   "metadata": {},
   "source": [
    "Your first task is to cluster the product review data using a tf–idf vectorizer and a $k$-means clusterer."
   ]
  },
  {
   "cell_type": "markdown",
   "metadata": {},
   "source": [
    "Start by doing the vectorization. In connection with vectorization, you should also filter out standard English stop words. While you could use [spaCy](https://spacy.io/) for this task, here it suffices to use the word list implemented in [TfidfVectorizer](https://scikit-learn.org/stable/modules/generated/sklearn.feature_extraction.text.TfidfVectorizer.html)."
   ]
  },
  {
   "cell_type": "code",
   "execution_count": 49,
   "metadata": {},
   "outputs": [],
   "source": [
    "# TODO: Enter code here to vectorize the data and store it in a variable `reviews`\n",
    "from sklearn.feature_extraction.text import TfidfVectorizer\n",
    "\n",
    "# vectorize\n",
    "vectorizer = TfidfVectorizer(stop_words='english')\n",
    "reviews = vectorizer.fit_transform(df['text'])"
   ]
  },
  {
   "cell_type": "markdown",
   "metadata": {},
   "source": [
    "Test your vectorization by running the following code cell:"
   ]
  },
  {
   "cell_type": "code",
   "execution_count": 50,
   "metadata": {},
   "outputs": [
    {
     "data": {
      "text/plain": [
       "(11914, 46619)"
      ]
     },
     "execution_count": 50,
     "metadata": {},
     "output_type": "execute_result"
    }
   ],
   "source": [
    "reviews.shape"
   ]
  },
  {
   "cell_type": "markdown",
   "metadata": {},
   "source": [
    "If you used the English stop word list from scikit-learn, then the resulting vocabulary should have 46,619 entries."
   ]
  },
  {
   "cell_type": "markdown",
   "metadata": {},
   "source": [
    "Next, cluster the vectorized data. Before doing so, you should read the documentation of the [KMeans](https://scikit-learn.org/stable/modules/generated/sklearn.cluster.KMeans.html) class, which is scikit-learn&rsquo;s implementation of the $k$-means algorithm. As you can see, this class has several parameters that you can tweak. For now, the only parameter that you will have to set is the number of clusters. Start with $k=3$.\n",
    "\n",
    "**Tip:** Training $k$-means models will take some time. To speed things up, you can use the `n_init` parameter to control the number of times that the clustering is re-computed with different initial values. The default value for this parameter is 10; here and in the rest of this lab, you may want to set this to a lower value."
   ]
  },
  {
   "cell_type": "code",
   "execution_count": 51,
   "metadata": {},
   "outputs": [],
   "source": [
    "# TODO: Enter code here to cluster the vectorized data\n",
    "from sklearn.cluster import KMeans\n",
    "\n",
    "n_class = 3\n",
    "kmeans = KMeans(n_clusters=n_class,n_init=6).fit(reviews)"
   ]
  },
  {
   "cell_type": "markdown",
   "metadata": {},
   "source": [
    "To sanity-check your clustering, create a bar plot with the number of documents per cluster."
   ]
  },
  {
   "cell_type": "code",
   "execution_count": 52,
   "metadata": {},
   "outputs": [
    {
     "data": {
      "text/plain": [
       "<AxesSubplot: title={'center': 'bar plot, k=3'}, xlabel='0'>"
      ]
     },
     "execution_count": 52,
     "metadata": {},
     "output_type": "execute_result"
    },
    {
     "data": {
      "image/png": "[encoded data removed]",
      "text/plain": [
       "<Figure size 640x480 with 1 Axes>"
      ]
     },
     "metadata": {},
     "output_type": "display_data"
    }
   ],
   "source": [
    "# TODO: Enter code here to produce a bar plot of the cluster size\n",
    "# import matplotlib.pyplot as plt\n",
    "# y = (len(kmeans.labels_[kmeans.labels_==0]),len(kmeans.labels_[kmeans.labels_==1]),len(kmeans.labels_[kmeans.labels_==2]))\n",
    "# plt.bar((0,1,2),y)\n",
    "# plt.xlabel(\"Cluster\", labelpad=14)\n",
    "# plt.ylabel(\"Numbers\", labelpad=14)\n",
    "import matplotlib.pyplot as plt\n",
    "\n",
    "pd.DataFrame(kmeans.labels_).value_counts().plot(kind='bar', rot=0, title='bar plot, k=3')\n"
   ]
  },
  {
   "cell_type": "markdown",
   "metadata": {},
   "source": [
    "Note that sizes may vary considerable between clusters and among different random seeds."
   ]
  },
  {
   "cell_type": "markdown",
   "metadata": {},
   "source": [
    "## Problem 2: Summarize clusters"
   ]
  },
  {
   "cell_type": "markdown",
   "metadata": {},
   "source": [
    "Once you have a clustering, you can try to see whether it is meaningful. One useful technique in that context is to generate a **summary** for each cluster by extracting the $n$ highest-weighted terms from the centroid of each cluster. Your next task is to implement this approach.\n",
    "\n",
    "**Hint:** You will need to construct an &lsquo;inverted vocabulary&rsquo; that allows you to map from the index of a term back to the original term."
   ]
  },
  {
   "cell_type": "code",
   "execution_count": 53,
   "metadata": {},
   "outputs": [
    {
     "name": "stdout",
     "output_type": "stream",
     "text": [
      "cluster: 0, highest-weighted terms: ['book', 'quot', 'read', 'books', 'author', 'reading', 'story', 'like', 'just', 'good']\n",
      "cluster: 1, highest-weighted terms: ['camera', 'lens', 'pictures', 'canon', 'digital', 'use', 'battery', 'flash', 'quality', 'great']\n",
      "cluster: 2, highest-weighted terms: ['like', 'product', 'movie', 'great', 'just', 'good', 'cd', 'use', 'time', 'album']\n"
     ]
    }
   ],
   "source": [
    "# TODO: Enter code here to compute the cluster summaries and print them\n",
    "n_highest_terms = 10\n",
    "centroids = kmeans.cluster_centers_\n",
    "vocabulary = vectorizer.get_feature_names_out()\n",
    "\n",
    "k = n_class # k = 3\n",
    "for i in range(k):\n",
    "    # get index of highest-weighted terms\n",
    "    index = centroids[i].argsort()[::-1][:n_highest_terms]\n",
    "    # get words from vocabulary\n",
    "    terms = [vocabulary[i] for i in index]\n",
    "    print(f'cluster: {i}, highest-weighted terms: {terms}')\n"
   ]
  },
  {
   "cell_type": "markdown",
   "metadata": {},
   "source": [
    "Once you have computed the cluster summaries, take a minute to reflect on their quality. Is it clear what the reviews in a given cluster are about? Do the cluster summaries contain any unexpected terms?"
   ]
  },
  {
   "cell_type": "markdown",
   "metadata": {},
   "source": [
    "## Problem 3: Compare clusterings using the Rand index"
   ]
  },
  {
   "cell_type": "markdown",
   "metadata": {},
   "source": [
    "In some scenarios, you may have gold-standard class labels available for at least a subset of your documents. In these cases you can compute the **Rand index** of a clustering, and use this measure to compare the quality of different clusterings.\n",
    "\n",
    "To compute the Rand index, we view a clustering as a binary classifier on (unordered) pairs of documents. The classifier predicts &lsquo;positive&rsquo; if and only if the two documents belong to the same cluster. The (non-normalized) Rand index of the clustering is the accuracy of this classifier relative to a reference in which a document pair belongs to the &lsquo;positive&rsquo; class if and only if the two documents in the pair have the same gold-standard class label. You are supposed to implement the procedure yourselves, not import an external function.\n",
    "\n",
    "Compare clusterings with $k \\in \\{1,3,5,7\\}$ clusters. As your evaluation data, use the first 500 documents from the original data set along with their gold-standard categories (from the `category` column)."
   ]
  },
  {
   "cell_type": "code",
   "execution_count": 54,
   "metadata": {},
   "outputs": [
    {
     "name": "stdout",
     "output_type": "stream",
     "text": [
      "number of cluster: 1, rand index: 0.16626052104208416\n",
      "number of cluster: 3, rand index: 0.6059959919839679\n",
      "number of cluster: 5, rand index: 0.7160320641282565\n",
      "number of cluster: 7, rand index: 0.788689378757515\n",
      "number of cluster: 8, rand index: 0.7812264529058116\n",
      "number of cluster: 9, rand index: 0.8245691382765531\n",
      "number of cluster: 10, rand index: 0.8188456913827655\n"
     ]
    }
   ],
   "source": [
    "# TODO: Enter code here to (manually) compute the Rand indices for the two clusterings\n",
    "import itertools\n",
    "\n",
    "\n",
    "x = reviews[0:500, :]\n",
    "standard = df['category'][0:500]\n",
    "k_values = [1, 3, 5, 7,8,9,10] # Here we test more k_values to get elbow method result\n",
    "accuracy_values = []\n",
    "\n",
    "for k in k_values:\n",
    "    kmeans = KMeans(n_clusters=k, n_init=6).fit(x)\n",
    "    labels = kmeans.labels_\n",
    "\n",
    "    pairs = list(itertools.combinations(range(500), 2))\n",
    "    sum_ = sum([1 for x in pairs if (labels[x[0]]==labels[x[1]] and standard[x[0]]==standard[x[1]]) or (labels[x[0]]!=labels[x[1]] and standard[x[0]]!=standard[x[1]])])\n",
    "    accuracy = sum_/(500*499/2)\n",
    "    print(f'number of cluster: {k}, rand index: {accuracy}')\n",
    "    accuracy_values.append(accuracy)\n"
   ]
  },
  {
   "cell_type": "code",
   "execution_count": 55,
   "metadata": {},
   "outputs": [
    {
     "data": {
      "text/plain": [
       "[<matplotlib.lines.Line2D at 0x2bf8ecfd0>]"
      ]
     },
     "execution_count": 55,
     "metadata": {},
     "output_type": "execute_result"
    },
    {
     "data": {
      "image/png": "[encoded data removed]",
      "text/plain": [
       "<Figure size 640x480 with 1 Axes>"
      ]
     },
     "metadata": {},
     "output_type": "display_data"
    }
   ],
   "source": [
    "plt.plot(k_values, accuracy_values)"
   ]
  },
  {
   "cell_type": "markdown",
   "metadata": {},
   "source": [
    "*TODO: Insert a summary of your results here*"
   ]
  },
  {
   "cell_type": "markdown",
   "metadata": {},
   "source": [
    "## Topic modelling data set"
   ]
  },
  {
   "cell_type": "markdown",
   "metadata": {},
   "source": [
    "The data set for the topic modelling part of this lab is the collection of all [State of the Union](https://en.wikipedia.org/wiki/State_of_the_Union) addresses from the years 1975–2000. These speeches come as a single text file with one sentence per line. The following code cell prints the first 5 lines from the data file:"
   ]
  },
  {
   "cell_type": "code",
   "execution_count": 56,
   "metadata": {},
   "outputs": [
    {
     "name": "stdout",
     "output_type": "stream",
     "text": [
      "mr speaker mr vice president members of the 94th congress and distinguished guests\n",
      "twenty six years ago a freshman congressman a young fellow with lots of idealism who was out to change the world stood before sam rayburn in the well of the house and solemnly swore to the same oath that all of you took yesterday an unforgettable experience and i congratulate you all\n",
      "two days later that same freshman stood at the back of this great chamber over there someplace as president truman all charged up by his single handed election victory reported as the constitution requires on the state of the union\n",
      "when the bipartisan applause stopped president truman said i am happy to report to this 81st congress that the state of the union is good our nation is better able than ever before to meet the needs of the american people and to give them their fair chance in the pursuit of happiness it is foremost among the nations of the world in the search for peace\n",
      "today that freshman member from michigan stands where mr truman stood and i must say to you that the state of the union is not good\n",
      "millions of americans are out of work\n"
     ]
    }
   ],
   "source": [
    "with open('sotu_1975_2000.txt') as source:\n",
    "    for i, line in enumerate(source):\n",
    "        print(line.rstrip())\n",
    "        if i >= 5:\n",
    "            break"
   ]
  },
  {
   "cell_type": "markdown",
   "metadata": {},
   "source": [
    "Take a few minutes to think about what topics you would expect in this data set."
   ]
  },
  {
   "cell_type": "markdown",
   "metadata": {},
   "source": [
    "## Problem 4: Train a topic model"
   ]
  },
  {
   "cell_type": "markdown",
   "metadata": {},
   "source": [
    "Your first task on the topic modelling data is to train an LDA model. For this task you will be using [spaCy](https://spacy.io/) and the [gensim](https://radimrehurek.com/gensim/) topic modelling library.\n",
    "\n",
    "Start by preprocessing the data using spaCy. Given that the data set for this problem is rather small, you do not have to exclude any components from the standard pipeline. Filter out stop words, non-alphabetic tokens, and tokens less than 3 characters in length. Store the documents as a nested list where the first level of nesting corresponds to the sentences and the second level corresponds to the tokens in each sentence."
   ]
  },
  {
   "cell_type": "code",
   "execution_count": 57,
   "metadata": {},
   "outputs": [],
   "source": [
    "# TODO: Replace the following lines with your own code for preprocessing the documents\n",
    "from spacy.tokens import Doc\n",
    "import spacy\n",
    "\n",
    "with open('sotu_1975_2000.txt') as source:\n",
    "    text = [line.split() for line in source]\n",
    "    \n",
    "    nlp = spacy.load('en_core_web_sm')\n",
    "    documents = []\n",
    "    for line in text:\n",
    "        doc=Doc(nlp.vocab,line)\n",
    "        line_token=[]\n",
    "        for x in nlp(doc):\n",
    "            if x.is_stop==False and x.is_alpha==True and len(x)>=3:\n",
    "                line_token.append(str(x))\n",
    "        documents.append(line_token)\n",
    "    "
   ]
  },
  {
   "cell_type": "markdown",
   "metadata": {},
   "source": [
    "Test your preprocessing by running the following cell:"
   ]
  },
  {
   "cell_type": "code",
   "execution_count": 58,
   "metadata": {},
   "outputs": [
    {
     "data": {
      "text/plain": [
       "'reduce oil imports million barrels day end year million barrels day end'"
      ]
     },
     "execution_count": 58,
     "metadata": {},
     "output_type": "execute_result"
    }
   ],
   "source": [
    "' '.join(documents[42])"
   ]
  },
  {
   "cell_type": "markdown",
   "metadata": {},
   "source": [
    "You should get the following output:"
   ]
  },
  {
   "cell_type": "raw",
   "metadata": {},
   "source": [
    "'reduce oil imports million barrels day end year million barrels day end'"
   ]
  },
  {
   "cell_type": "markdown",
   "metadata": {},
   "source": [
    "Once you have the list of documents, skim the section [Pre-process and vectorize the documents](https://radimrehurek.com/gensim/auto_examples/tutorials/run_lda.html#pre-process-and-vectorize-the-documents) of the gensim documentation to learn how to create the dictionary and the vectorized corpus representation required by gensim. (Note that you cannot use the standard scikit-learn pipeline in this case.) Then, write code to train an [LdaModel](https://radimrehurek.com/gensim/models/ldamodel.html) for $k=10$ topics, and using default values for all other parameters."
   ]
  },
  {
   "cell_type": "code",
   "execution_count": 59,
   "metadata": {},
   "outputs": [],
   "source": [
    "# TODO: Enter code here to train an LDA model and store it in a variable `model`\n",
    "\n",
    "from gensim.corpora.dictionary import Dictionary\n",
    "import gensim.models.ldamodel\n",
    "\n",
    "dictionary = Dictionary(documents)\n",
    "corpus = [dictionary.doc2bow(doc) for doc in documents]\n",
    "\n",
    "model = LdaModel(corpus, num_topics=10,id2word=dictionary)"
   ]
  },
  {
   "cell_type": "markdown",
   "metadata": {},
   "source": [
    "Once you have a trained model, run the following cell to print the topics:"
   ]
  },
  {
   "cell_type": "code",
   "execution_count": 60,
   "metadata": {},
   "outputs": [
    {
     "name": "stdout",
     "output_type": "stream",
     "text": [
      "[(0,\n",
      "  '0.026*\"children\" + 0.014*\"parents\" + 0.013*\"schools\" + 0.010*\"work\" + '\n",
      "  '0.008*\"teachers\" + 0.007*\"congress\" + 0.007*\"people\" + 0.007*\"child\" + '\n",
      "  '0.006*\"years\" + 0.006*\"school\"'),\n",
      " (1,\n",
      "  '0.009*\"work\" + 0.008*\"new\" + 0.007*\"years\" + 0.007*\"americans\" + '\n",
      "  '0.006*\"care\" + 0.006*\"american\" + 0.006*\"people\" + 0.006*\"working\" + '\n",
      "  '0.006*\"congress\" + 0.005*\"rights\"'),\n",
      " (2,\n",
      "  '0.015*\"new\" + 0.009*\"budget\" + 0.007*\"years\" + 0.006*\"america\" + '\n",
      "  '0.006*\"cancer\" + 0.006*\"welfare\" + 0.006*\"covenant\" + 0.005*\"child\" + '\n",
      "  '0.005*\"year\" + 0.005*\"american\"'),\n",
      " (3,\n",
      "  '0.013*\"year\" + 0.011*\"people\" + 0.011*\"let\" + 0.011*\"work\" + '\n",
      "  '0.010*\"welfare\" + 0.008*\"health\" + 0.008*\"government\" + 0.007*\"pass\" + '\n",
      "  '0.007*\"budget\" + 0.007*\"care\"'),\n",
      " (4,\n",
      "  '0.012*\"new\" + 0.010*\"americans\" + 0.007*\"america\" + 0.007*\"american\" + '\n",
      "  '0.007*\"government\" + 0.005*\"congress\" + 0.005*\"people\" + 0.005*\"help\" + '\n",
      "  '0.005*\"nation\" + 0.005*\"programs\"'),\n",
      " (5,\n",
      "  '0.015*\"america\" + 0.013*\"people\" + 0.009*\"year\" + 0.007*\"new\" + '\n",
      "  '0.007*\"world\" + 0.007*\"century\" + 0.006*\"congress\" + 0.006*\"american\" + '\n",
      "  '0.006*\"today\" + 0.005*\"president\"'),\n",
      " (6,\n",
      "  '0.015*\"america\" + 0.011*\"world\" + 0.009*\"crime\" + 0.006*\"peace\" + '\n",
      "  '0.005*\"war\" + 0.005*\"today\" + 0.005*\"people\" + 0.005*\"nuclear\" + '\n",
      "  '0.004*\"trade\" + 0.004*\"security\"'),\n",
      " (7,\n",
      "  '0.016*\"new\" + 0.013*\"america\" + 0.009*\"world\" + 0.008*\"congress\" + '\n",
      "  '0.008*\"work\" + 0.008*\"government\" + 0.008*\"community\" + 0.007*\"years\" + '\n",
      "  '0.006*\"communities\" + 0.005*\"national\"'),\n",
      " (8,\n",
      "  '0.011*\"new\" + 0.010*\"people\" + 0.009*\"america\" + 0.008*\"year\" + '\n",
      "  '0.008*\"tonight\" + 0.008*\"world\" + 0.007*\"americans\" + 0.007*\"security\" + '\n",
      "  '0.007*\"years\" + 0.007*\"work\"'),\n",
      " (9,\n",
      "  '0.016*\"people\" + 0.012*\"tax\" + 0.011*\"years\" + 0.009*\"year\" + '\n",
      "  '0.007*\"college\" + 0.007*\"american\" + 0.007*\"time\" + 0.007*\"new\" + '\n",
      "  '0.007*\"medicare\" + 0.007*\"budget\"')]\n"
     ]
    }
   ],
   "source": [
    "from pprint import pprint\n",
    "pprint(model.show_topics())"
   ]
  },
  {
   "cell_type": "markdown",
   "metadata": {},
   "source": [
    "Inspect the topics. Can you &lsquo;label&rsquo; each topic with a short description of what it is about? Do the topics match your expectations?"
   ]
  },
  {
   "cell_type": "markdown",
   "metadata": {},
   "source": [
    "## Problem 5: Monitor a topic model for convergence"
   ]
  },
  {
   "cell_type": "markdown",
   "metadata": {},
   "source": [
    "When learning an LDA model, it is important to make sure that the training algorithm has converged to a stable posterior distribution. One way to do so is to plot, after each training epochs (or &lsquo;pass&rsquo;, in gensim parlance) the log likelihood of the training data under the posterior. Your last task in this lab is to create such a plot and, based on this, to suggest an appropriate number of epochs.\n",
    "\n",
    "To collect information about the posterior likelihood after each pass, we need to enable the logging facilities of gensim. Once this is done, gensim will add various diagnostics to a log file `gensim.log`."
   ]
  },
  {
   "cell_type": "code",
   "execution_count": 61,
   "metadata": {},
   "outputs": [],
   "source": [
    "import logging\n",
    "\n",
    "logging.basicConfig(filename='gensim.log', format='%(asctime)s:%(levelname)s:%(message)s', level=logging.INFO)"
   ]
  },
  {
   "cell_type": "markdown",
   "metadata": {},
   "source": [
    "The following function will parse the generated logfile and return the list of log likelihoods."
   ]
  },
  {
   "cell_type": "code",
   "execution_count": 62,
   "metadata": {},
   "outputs": [],
   "source": [
    "import re\n",
    "\n",
    "def parse_logfile():\n",
    "    matcher = re.compile('(-*\\d+\\.\\d+) per-word .* (\\d+\\.\\d+) perplexity')\n",
    "    likelihoods = []\n",
    "    with open('gensim.log') as source:\n",
    "        for line in source:\n",
    "            match = matcher.search(line)\n",
    "            if match:\n",
    "                likelihoods.append(float(match.group(1)))\n",
    "    return likelihoods"
   ]
  },
  {
   "cell_type": "markdown",
   "metadata": {},
   "source": [
    "Your task now is to re-train your LDA model for 50&nbsp;passes, retrieve the list of log likelihoods, and create a plot from this data."
   ]
  },
  {
   "cell_type": "code",
   "execution_count": 63,
   "metadata": {},
   "outputs": [],
   "source": [
    "# TODO: Enter code here to generate the convergence plot\n",
    "model = LdaModel(corpus, num_topics=10,id2word=dictionary,passes=50)\n",
    "loglike = parse_logfile()"
   ]
  },
  {
   "cell_type": "code",
   "execution_count": 64,
   "metadata": {},
   "outputs": [
    {
     "data": {
      "text/plain": [
       "Text(0, 0.5, 'loglikelihood')"
      ]
     },
     "execution_count": 64,
     "metadata": {},
     "output_type": "execute_result"
    },
    {
     "data": {
      "image/png": "[encoded data removed]",
      "text/plain": [
       "<Figure size 640x480 with 1 Axes>"
      ]
     },
     "metadata": {},
     "output_type": "display_data"
    }
   ],
   "source": [
    "log = loglike[(len(loglike)-50):]\n",
    "plt.plot(range(len(log)),log)\n",
    "plt.xlabel(\"epoches\", labelpad=14)\n",
    "plt.ylabel(\"loglikelihood\", labelpad=14)"
   ]
  },
  {
   "cell_type": "markdown",
   "metadata": {},
   "source": [
    "How do you interpret your plot? Based on the plot, what would be a reasonable choice for the number of passes? Retrain your LDA model with that number and re-inspect the topics it finds. Do you consider the new topics to be &lsquo;better&rsquo; than the ones that you got from the 1-pass model in Problem&nbsp;4?"
   ]
  },
  {
   "cell_type": "markdown",
   "metadata": {},
   "source": [
    "**From the plot above, we can see the loglikelihood kept increasing at first and after 5 epoches it remained at a steady level. So 5 epoches are reasonable for the model.**"
   ]
  },
  {
   "cell_type": "code",
   "execution_count": 65,
   "metadata": {},
   "outputs": [
    {
     "name": "stdout",
     "output_type": "stream",
     "text": [
      "[(0,\n",
      "  '0.015*\"government\" + 0.008*\"federal\" + 0.006*\"education\" + 0.006*\"row\" + '\n",
      "  '0.006*\"tobacco\" + 0.006*\"america\" + 0.005*\"tuition\" + 0.005*\"need\" + '\n",
      "  '0.005*\"president\" + 0.005*\"college\"'),\n",
      " (1,\n",
      "  '0.024*\"new\" + 0.016*\"america\" + 0.013*\"schools\" + 0.011*\"people\" + '\n",
      "  '0.010*\"school\" + 0.010*\"americans\" + 0.008*\"teachers\" + 0.008*\"year\" + '\n",
      "  '0.008*\"help\" + 0.007*\"work\"'),\n",
      " (2,\n",
      "  '0.022*\"world\" + 0.016*\"union\" + 0.014*\"america\" + 0.012*\"american\" + '\n",
      "  '0.010*\"nation\" + 0.010*\"soviet\" + 0.010*\"people\" + 0.008*\"freedom\" + '\n",
      "  '0.008*\"state\" + 0.008*\"years\"'),\n",
      " (3,\n",
      "  '0.013*\"let\" + 0.013*\"new\" + 0.010*\"community\" + 0.009*\"people\" + '\n",
      "  '0.009*\"america\" + 0.008*\"americans\" + 0.007*\"year\" + 0.007*\"american\" + '\n",
      "  '0.007*\"way\" + 0.007*\"security\"'),\n",
      " (4,\n",
      "  '0.012*\"world\" + 0.012*\"america\" + 0.010*\"states\" + 0.009*\"united\" + '\n",
      "  '0.007*\"trade\" + 0.007*\"nations\" + 0.006*\"defense\" + 0.006*\"nation\" + '\n",
      "  '0.006*\"peace\" + 0.006*\"countries\"'),\n",
      " (5,\n",
      "  '0.017*\"years\" + 0.014*\"people\" + 0.013*\"year\" + 0.013*\"new\" + 0.012*\"tax\" + '\n",
      "  '0.011*\"million\" + 0.011*\"families\" + 0.010*\"budget\" + 0.008*\"work\" + '\n",
      "  '0.008*\"jobs\"'),\n",
      " (6,\n",
      "  '0.012*\"energy\" + 0.008*\"immigrants\" + 0.008*\"government\" + 0.007*\"american\" '\n",
      "  '+ 0.007*\"years\" + 0.007*\"nation\" + 0.006*\"new\" + 0.006*\"century\" + '\n",
      "  '0.006*\"congress\" + 0.006*\"scientists\"'),\n",
      " (7,\n",
      "  '0.021*\"care\" + 0.019*\"health\" + 0.016*\"welfare\" + 0.016*\"work\" + '\n",
      "  '0.013*\"know\" + 0.012*\"children\" + 0.009*\"people\" + 0.008*\"child\" + '\n",
      "  '0.007*\"reform\" + 0.007*\"government\"'),\n",
      " (8,\n",
      "  '0.011*\"congress\" + 0.009*\"security\" + 0.008*\"year\" + 0.006*\"new\" + '\n",
      "  '0.006*\"world\" + 0.006*\"national\" + 0.005*\"protect\" + 0.005*\"ask\" + '\n",
      "  '0.005*\"tonight\" + 0.005*\"social\"'),\n",
      " (9,\n",
      "  '0.021*\"children\" + 0.015*\"america\" + 0.010*\"people\" + 0.009*\"parents\" + '\n",
      "  '0.009*\"let\" + 0.007*\"ask\" + 0.007*\"good\" + 0.007*\"country\" + 0.007*\"future\" '\n",
      "  '+ 0.007*\"pass\"')]\n"
     ]
    }
   ],
   "source": [
    "# retrain the model\n",
    "model = LdaModel(corpus, num_topics=10,id2word=dictionary,passes=5)\n",
    "\n",
    "pprint(model.show_topics())"
   ]
  },
  {
   "cell_type": "markdown",
   "metadata": {},
   "source": [
    "The new topics are better because compared to the 1 pass model the probabilities of each topic increased."
   ]
  },
  {
   "cell_type": "markdown",
   "metadata": {},
   "source": [
    "## Reflection questions"
   ]
  },
  {
   "cell_type": "markdown",
   "metadata": {},
   "source": [
    "The following reflection questions will help you prepare for the diagnostic test. Answer each of them in the form of a short text and put your answers in the cell below. You will get feedback on your answers from your lab assistant."
   ]
  },
  {
   "cell_type": "markdown",
   "metadata": {},
   "source": [
    "**RQ 3.1:** Based on your experiments in Problem&nbsp;2 and Problem&nbsp;3, what is the relation between the quality of a clustering and the number of clusters? What happens when the number of clusters is too low, or too high? For this particular data set, what would a &lsquo;good&rsquo; number of clusters be?\n",
    "\n",
    "**RQ 3.2:** Explain why it is important to monitor an LDA model for convergence and not simply use, say, 1000&nbsp;passes. How is the log likelihood used in this context? Were the topics from the multi-pass model &lsquo;better&rsquo; than the topics from the 1-pass model?\n",
    "\n",
    "**RQ 3.3:** What are the differences between $k$-means and LDA? When would you use one, when the other?"
   ]
  },
  {
   "cell_type": "markdown",
   "metadata": {},
   "source": [
    "*TODO: Enter your answers here*\n",
    "\n",
    "**3.1**\n",
    "\n",
    "The relationship between the number of clusters and the quality of the model is a very subjective issue. We know that SSE tends to 0 as the number of clusters increases, but we only select the size of the cluster and the quality of the model based on SSE. This is a process of trade-offs.\n",
    "\n",
    "When the number of clusters is too small, the effect of classification cannot be achieved. Too many clusters, which is a waste (think too many outliers with their own clusters).\n",
    "\n",
    "\"The Rand index of a clustering measures the accuracy of this classiﬁer relative to the gold-standard class assignment.\"\n",
    "According to elbow method, the best K value here is 5.\n",
    "\n",
    "**3.2**\n",
    "\n",
    "There is a stationary distribution for LDA, and the convergence is monitored to obtain this stationary model. If the experiment fails to converge, it may be that the calculation time is not long enough or the number of topics set is too large.\n",
    "\n",
    "In order to simplify the calculation, we usually take the logarithm of the likelihood function (without affecting its monotonicity), and transform it into a maximum likelihood estimation problem.\n",
    "\n",
    "Multi-pass models are not always on topic better than 1-pass models.\n",
    "\n",
    "**3.3**\n",
    "\n",
    "K-means is a Hard clustering method, LDA is a Soft clustering method.\n",
    "\n",
    "When we want each document either belongs to a cluster or not, we use K-means;\n",
    "\n",
    "When we want each document belongs to each cluster to a certain degree, we use LDA;"
   ]
  },
  {
   "cell_type": "markdown",
   "metadata": {},
   "source": [
    "**Congratulations on finishing L3! 👍**"
   ]
  }
 ],
 "metadata": {
  "kernelspec": {
   "display_name": "Python 3.9.6 64-bit",
   "language": "python",
   "name": "python3"
  },
  "language_info": {
   "codemirror_mode": {
    "name": "ipython",
    "version": 3
   },
   "file_extension": ".py",
   "mimetype": "text/x-python",
   "name": "python",
   "nbconvert_exporter": "python",
   "pygments_lexer": "ipython3",
   "version": "3.9.6"
  },
  "vscode": {
   "interpreter": {
    "hash": "31f2aee4e71d21fbe5cf8b01ff0e069b9275f58929596ceb00d14d90e3e16cd6"
   }
  }
 },
 "nbformat": 4,
 "nbformat_minor": 2
}
